{
 "cells": [
  {
   "cell_type": "code",
   "execution_count": null,
   "metadata": {
    "collapsed": true
   },
   "outputs": [],
   "source": [
    "#Import the necessary modules"
   ]
  },
  {
   "cell_type": "code",
   "execution_count": null,
   "metadata": {},
   "outputs": [],
   "source": [
    "import os\n",
    "from keras.applications import ResNet50\n",
    "from keras.models import Sequential\n",
    "from keras.layers import Dense, Flatten, GlobalAveragePooling2D\n",
    "from keras.preprocessing.image import load_img, img_to_array\n",
    "import numpy as np\n",
    "import pandas as pd\n",
    "\n",
    "from keras.applications.resnet50 import preprocess_input\n",
    "from keras.preprocessing.image import ImageDataGenerator"
   ]
  },
  {
   "cell_type": "code",
   "execution_count": null,
   "metadata": {},
   "outputs": [],
   "source": [
    "#Locate the directory"
   ]
  },
  {
   "cell_type": "code",
   "execution_count": null,
   "metadata": {},
   "outputs": [],
   "source": [
    "weight_path = '../input/keras-pretrained-models/resnet50_weights_tf_dim_ordering_tf_kernels_notop.h5'\n",
    "BASE_DATA_FOLDER = \"../input/plant-seedlings-classification/train\"\n",
    "num_classes = len(os.listdir(BASE_DATA_FOLDER))\n",
    "image_size = 224"
   ]
  },
  {
   "cell_type": "code",
   "execution_count": null,
   "metadata": {},
   "outputs": [],
   "source": [
    "#Prepare the netork Using VGG16 model and last densly connected layer"
   ]
  },
  {
   "cell_type": "code",
   "execution_count": null,
   "metadata": {},
   "outputs": [],
   "source": [
    "my_model = Sequential()\n",
    "my_model.add(ResNet50(include_top=False, pooling='avg', weights=weight_path))\n",
    "my_model.add(Dense(num_classes, activation='softmax'))\n",
    "my_model.layers[0].trainable = True\n",
    "my_model.compile(optimizer='Adam', loss='categorical_crossentropy', metrics=['accuracy'])"
   ]
  },
  {
   "cell_type": "code",
   "execution_count": null,
   "metadata": {},
   "outputs": [],
   "source": [
    "# Prepare the data generator and use data augmentation"
   ]
  },
  {
   "cell_type": "code",
   "execution_count": null,
   "metadata": {},
   "outputs": [],
   "source": [
    "data_generator = ImageDataGenerator(preprocessing_function=preprocess_input,\n",
    "                                    horizontal_flip=True,\n",
    "                                    width_shift_range=0.2,\n",
    "                                    height_shift_range=0.2)\n",
    "\n",
    "train_generator = data_generator.flow_from_directory(directory='../input/plant-seedlings-classification/train',\n",
    "                                                     target_size=(image_size,image_size),\n",
    "                                                     class_mode='categorical')"
   ]
  },
  {
   "cell_type": "code",
   "execution_count": null,
   "metadata": {},
   "outputs": [],
   "source": [
    "# Map the Lbale with index \n",
    "label = train_generator.class_indices\n",
    "# Make a dictionary key as Label name and index as value ex: {'Black-grass:0}..\n",
    "label = dict((v,k) for k,v in label.items())\n",
    "\n",
    "# Train the generator\n",
    "my_model.fit_generator(train_generator,epochs=5)"
   ]
  },
  {
   "cell_type": "code",
   "execution_count": null,
   "metadata": {},
   "outputs": [],
   "source": [
    "# Predict and prepare the prediction for submission"
   ]
  },
  {
   "cell_type": "code",
   "execution_count": null,
   "metadata": {},
   "outputs": [],
   "source": [
    "test_path = '../input/plant-seedlings-classification/test'\n",
    "train_path = '../input/plant-seedlings-classification/train'\n",
    "sample_path = '../input/plant-seedlings-classification/sample_submission.csv'\n",
    "\n",
    "raw_sample = pd.read_csv(sample_path)\n",
    "ImageId_sample = raw_sample.values[:,0]\n",
    "\n",
    "label_map = {}\n",
    "preds = []\n",
    "l = 0\n",
    "for label_name in ImageId_sample:\n",
    "    imgPath = os.path.join(test_path,label_name)\n",
    "    Image = load_img(imgPath, target_size=(image_size,image_size))\n",
    "    Image = img_to_array(Image)\n",
    "    Image = np.expand_dims(Image,axis=0)\n",
    "    pred = my_model.predict(Image)\n",
    "    pred = np.argmax(pred)\n",
    "    pred = label[pred]\n",
    "    preds.append(pred)\n",
    "\n",
    "my_submission = pd.concat([pd.Series(ImageId_sample,name=\"file\"), pd.Series(preds,name=\"species\")], axis=1)\n",
    "my_submission.to_csv('submission.csv', index=False)"
   ]
  }
 ],
 "metadata": {
  "kernelspec": {
   "display_name": "Python 2",
   "language": "python",
   "name": "python2"
  },
  "language_info": {
   "codemirror_mode": {
    "name": "ipython",
    "version": 2
   },
   "file_extension": ".py",
   "mimetype": "text/x-python",
   "name": "python",
   "nbconvert_exporter": "python",
   "pygments_lexer": "ipython2",
   "version": "2.7.6"
  }
 },
 "nbformat": 4,
 "nbformat_minor": 0
}
